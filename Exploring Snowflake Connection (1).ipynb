{
 "cells": [
  {
   "cell_type": "code",
   "execution_count": 1,
   "id": "c2f5c4d8",
   "metadata": {},
   "outputs": [
    {
     "name": "stderr",
     "output_type": "stream",
     "text": [
      "Failed to import ArrowResult. No Apache Arrow result set format can be used. ImportError: dlopen(/Users/josefpapillera/anaconda3/lib/python3.11/site-packages/snowflake/connector/arrow_iterator.cpython-311-darwin.so, 0x0002): symbol not found in flat namespace '__ZN5arrow14AllocateBufferExxPNS_10MemoryPoolE'\n"
     ]
    },
    {
     "name": "stdout",
     "output_type": "stream",
     "text": [
      "7.37.2\n"
     ]
    }
   ],
   "source": [
    "#!/usr/bin/env python\n",
    "import snowflake.connector\n",
    "\n",
    "# Gets the version\n",
    "ctx = snowflake.connector.connect(\n",
    "    user='jrpapi',\n",
    "    password='SnowflakeniChaeyoung20',\n",
    "    account='NRKJFRZ-BH64781'\n",
    "    )\n",
    "cs = ctx.cursor()\n",
    "\n",
    "try:\n",
    "    cs.execute(\"SELECT current_version()\")\n",
    "    one_row = cs.fetchone()\n",
    "    print(one_row[0])\n",
    "finally:\n",
    "    cs.close()\n",
    "ctx.close()"
   ]
  },
  {
   "cell_type": "code",
   "execution_count": 51,
   "id": "3998762e",
   "metadata": {},
   "outputs": [
    {
     "data": {
      "text/plain": [
       "True"
      ]
     },
     "execution_count": 51,
     "metadata": {},
     "output_type": "execute_result"
    }
   ],
   "source": [
    "import snowflake.connector\n",
    "import os\n",
    "from dotenv import load_dotenv\n",
    "\n",
    "load_dotenv()"
   ]
  },
  {
   "cell_type": "code",
   "execution_count": 52,
   "id": "db565b52",
   "metadata": {},
   "outputs": [],
   "source": [
    "PASSWORD = os.getenv('SNOWSQL_PWD')\n",
    "USER = os.getenv('SNOWSQL_USER')\n",
    "ACCOUNT = os.getenv('SNOWSQL_ACCOUNT')"
   ]
  },
  {
   "cell_type": "code",
   "execution_count": 53,
   "id": "76bd78de",
   "metadata": {},
   "outputs": [
    {
     "name": "stdout",
     "output_type": "stream",
     "text": [
      "Establishing a new connection between Snowflake and Python.\n",
      "A connection between Snowflake and Python is successfully established\n"
     ]
    }
   ],
   "source": [
    "try:\n",
    "    print(\"Establishing a new connection between Snowflake and Python.\")\n",
    "    conn = snowflake.connector.connect(\n",
    "        user=USER,\n",
    "        password=PASSWORD,\n",
    "        account=ACCOUNT,\n",
    "        client_session_alive=True\n",
    "    )\n",
    "    print(\"A connection between Snowflake and Python is successfully established\")\n",
    "\n",
    "except snowflake.connector.Error as er:\n",
    "    print(\"Error code:\", er.errno)\n",
    "    print(\"Error message:\", er.msg)"
   ]
  },
  {
   "cell_type": "code",
   "execution_count": 55,
   "id": "8be1d88e",
   "metadata": {},
   "outputs": [],
   "source": [
    "cs = conn.cursor()"
   ]
  },
  {
   "cell_type": "code",
   "execution_count": 58,
   "id": "dd1599d5",
   "metadata": {},
   "outputs": [
    {
     "data": {
      "text/plain": [
       "<snowflake.connector.cursor.SnowflakeCursor at 0x1238eb210>"
      ]
     },
     "execution_count": 58,
     "metadata": {},
     "output_type": "execute_result"
    }
   ],
   "source": [
    "cs.execute(\"CREATE WAREHOUSE IF NOT EXISTS tapidee_test_wh\")\n",
    "cs.execute(\"CREATE DATABASE IF NOT EXISTS tapidee_test_db\")\n",
    "cs.execute(\"CREATE SCHEMA IF NOT EXISTS tapidee_test_schema\")"
   ]
  },
  {
   "cell_type": "code",
   "execution_count": 57,
   "id": "105b5e19",
   "metadata": {},
   "outputs": [
    {
     "data": {
      "text/plain": [
       "<snowflake.connector.cursor.SnowflakeCursor at 0x1238eb210>"
      ]
     },
     "execution_count": 57,
     "metadata": {},
     "output_type": "execute_result"
    }
   ],
   "source": [
    "cs.execute(\"USE WAREHOUSE tapidee_test_wh\")\n",
    "cs.execute(\"USE DATABASE tapidee_test_db\")\n",
    "cs.execute(\"USE SCHEMA tapidee_test_schema\")"
   ]
  },
  {
   "cell_type": "code",
   "execution_count": 49,
   "id": "458ed5b8",
   "metadata": {},
   "outputs": [
    {
     "data": {
      "text/plain": [
       "<snowflake.connector.cursor.SnowflakeCursor at 0x12b389a90>"
      ]
     },
     "execution_count": 49,
     "metadata": {},
     "output_type": "execute_result"
    }
   ],
   "source": [
    "conn.cursor().execute(\"CREATE OR REPLACE FILE FORMAT mycsvformat\\\n",
    "  TYPE = 'CSV'\\\n",
    "  FIELD_DELIMITER = ','\\\n",
    "  SKIP_HEADER = 1;\")"
   ]
  },
  {
   "cell_type": "code",
   "execution_count": 35,
   "id": "2563ff2d",
   "metadata": {},
   "outputs": [
    {
     "data": {
      "text/plain": [
       "<snowflake.connector.cursor.SnowflakeCursor at 0x125c95410>"
      ]
     },
     "execution_count": 35,
     "metadata": {},
     "output_type": "execute_result"
    }
   ],
   "source": [
    "conn.cursor().execute(\"CREATE TEMP STAGE my_csv_stage\\\n",
    "  FILE_FORMAT = mycsvformat;\")"
   ]
  },
  {
   "cell_type": "code",
   "execution_count": 37,
   "id": "749c844f",
   "metadata": {},
   "outputs": [
    {
     "data": {
      "text/plain": [
       "<snowflake.connector.cursor.SnowflakeCursor at 0x1261390d0>"
      ]
     },
     "execution_count": 37,
     "metadata": {},
     "output_type": "execute_result"
    }
   ],
   "source": [
    "conn.cursor().execute(\"PUT file:///Users/josefpapillera/Downloads/order_peak_time.csv @my_csv_stage AUTO_COMPRESS=TRUE;\")"
   ]
  },
  {
   "cell_type": "code",
   "execution_count": 26,
   "id": "33933026",
   "metadata": {},
   "outputs": [
    {
     "data": {
      "text/plain": [
       "<snowflake.connector.cursor.SnowflakeCursor at 0x125f94290>"
      ]
     },
     "execution_count": 26,
     "metadata": {},
     "output_type": "execute_result"
    }
   ],
   "source": [
    "conn.cursor().execute(\"CREATE TEMP STAGE IF NOT EXISTS internal_stage_try\")"
   ]
  },
  {
   "cell_type": "code",
   "execution_count": 27,
   "id": "01bd8a01",
   "metadata": {},
   "outputs": [
    {
     "data": {
      "text/plain": [
       "<snowflake.connector.cursor.SnowflakeCursor at 0x126034f90>"
      ]
     },
     "execution_count": 27,
     "metadata": {},
     "output_type": "execute_result"
    }
   ],
   "source": [
    "conn.cursor().execute(\"PUT file:///Users/josefpapillera/Downloads/order_peak_time.csv @internal_stage_try;\")"
   ]
  },
  {
   "cell_type": "code",
   "execution_count": 59,
   "id": "736bce31",
   "metadata": {},
   "outputs": [],
   "source": [
    "conn.close()"
   ]
  }
 ],
 "metadata": {
  "kernelspec": {
   "display_name": "Python 3 (ipykernel)",
   "language": "python",
   "name": "python3"
  },
  "language_info": {
   "codemirror_mode": {
    "name": "ipython",
    "version": 3
   },
   "file_extension": ".py",
   "mimetype": "text/x-python",
   "name": "python",
   "nbconvert_exporter": "python",
   "pygments_lexer": "ipython3",
   "version": "3.11.4"
  }
 },
 "nbformat": 4,
 "nbformat_minor": 5
}
